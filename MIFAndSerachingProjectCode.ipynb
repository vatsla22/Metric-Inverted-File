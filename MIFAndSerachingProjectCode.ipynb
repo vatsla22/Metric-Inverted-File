{
 "cells": [
  {
   "cell_type": "code",
   "execution_count": null,
   "metadata": {},
   "outputs": [],
   "source": [
    "import numpy as np\n",
    "import pandas as pd\n",
    "import random\n",
    "import math\n",
    "import csv"
   ]
  },
  {
   "cell_type": "code",
   "execution_count": null,
   "metadata": {},
   "outputs": [],
   "source": [
    "# Massive Data Set\n",
    "csv_data = pd.read_csv(\"Danish_Atm_Data.csv\")"
   ]
  },
  {
   "cell_type": "code",
   "execution_count": null,
   "metadata": {},
   "outputs": [],
   "source": [
    "# Categorical variables to numerical\n",
    "csv_data['month'] = csv_data['month'].astype('category').cat.codes\n",
    "csv_data['day'] = csv_data['day'].astype('category').cat.codes\n",
    "csv_data['year'] = csv_data['year'].astype('category').cat.codes\n",
    "csv_data['hour'] = csv_data['hour'].astype('category').cat.codes\n",
    "csv_data['atm_id'] = csv_data['atm_id'].astype('category').cat.codes\n",
    "csv_data['weekday'] = csv_data['weekday'].astype('category').cat.codes\n",
    "csv_data['atm_status'] = csv_data['atm_status'].astype('category').cat.codes\n",
    "csv_data['atm_manufacturer'] = csv_data['atm_manufacturer'].astype('category').cat.codes\n",
    "csv_data['atm_location'] = csv_data['atm_location'].astype('category').cat.codes\n",
    "csv_data['atm_streetname'] = csv_data['atm_streetname'].astype('category').cat.codes\n",
    "csv_data['atm_street_number'] = csv_data['atm_street_number'].astype('category').cat.codes\n",
    "csv_data['atm_zipcode'] = csv_data['atm_zipcode'].astype('category').cat.codes\n",
    "csv_data['atm_lat'] = csv_data['atm_lat'].astype('category').cat.codes\n",
    "csv_data['atm_lon'] = csv_data['atm_lon'].astype('category').cat.codes\n",
    "csv_data['currency'] = csv_data['currency'].astype('category').cat.codes\n",
    "csv_data['card_type'] = csv_data['card_type'].astype('category').cat.codes\n",
    "csv_data['service'] = csv_data['service'].astype('category').cat.codes\n",
    "csv_data['message_code'] = csv_data['message_code'].astype('category').cat.codes\n",
    "csv_data['message_text'] = csv_data['message_text'].astype('category').cat.codes\n",
    "csv_data['Identification Number'] = csv_data['Identification Number'].astype('category').cat.codes\n",
    "\n",
    "# Filling missing data\n",
    "csv_data['message_code'].fillna(csv_data['message_code'].mode()[0], inplace=True)\n",
    "csv_data['message_text'].fillna(csv_data['message_text'].mode()[0], inplace=True)\n",
    "csv_data['Identification Number'].fillna(csv_data['Identification Number'].mode()[0], inplace=True)\n",
    "\n",
    "#csv_data.dtypes\n",
    "#csv_data.head()"
   ]
  },
  {
   "cell_type": "code",
   "execution_count": null,
   "metadata": {},
   "outputs": [],
   "source": [
    "# Randomly choosing 1000 reference points from the CSV data\n",
    "reference_points = csv_data.sample(1000)\n",
    "reference_array = np.array(reference_points.index.to_numpy())\n",
    "#print('reference object index',reference_array)\n",
    "#pd_frame = pd.DataFrame(reference_points)"
   ]
  },
  {
   "cell_type": "code",
   "execution_count": null,
   "metadata": {},
   "outputs": [],
   "source": [
    "# Calculating reference and object distance based on Permutation based Indexing\n",
    "ref_object_distance = {}\n",
    "\n",
    "for index, rows in csv_data.iterrows():\n",
    "    data_array = rows.to_numpy()\n",
    "    distance_list = []\n",
    "    for reference_index,reference in reference_points.iterrows():\n",
    "        ref_array = reference.to_numpy()\n",
    "        #print(ref_array)\n",
    "        distance = abs(np.sum(np.subtract(data_array,ref_array)))\n",
    "        distance_list.append([reference_index,distance])\n",
    "   \n",
    "    ref_list_sorted_distance = sorted(distance_list,key=lambda x :x[1])\n",
    "    reference , distance = zip(*ref_list_sorted_distance)\n",
    "    ref_object_distance[index].append(reference[:10])           #pruned list with n_tilda =10\n",
    "#print(ref_object_distance)"
   ]
  },
  {
   "cell_type": "code",
   "execution_count": null,
   "metadata": {},
   "outputs": [],
   "source": [
    "#MIF file creation\n",
    "mif = {}\n",
    "for key,val in ref_object_distance.items():\n",
    "    for j in reference_array:\n",
    "        if j in ref_object_distance[key][0]:\n",
    "            i = ref_object_distance[key][0].index(j)\n",
    "            mif[str(j)].append(str(key) + \",\"+ str(i))\n",
    "print(mif)\n",
    "#print(mif, file=open(\"outputmiffinal.txt\", \"a\"))"
   ]
  },
  {
   "cell_type": "code",
   "execution_count": null,
   "metadata": {},
   "outputs": [],
   "source": [
    "#Similarity search on the MIF file"
   ]
  },
  {
   "cell_type": "code",
   "execution_count": null,
   "metadata": {},
   "outputs": [],
   "source": [
    "#query object creation\n",
    "query_input = csv_data.iloc[585]         #query input to be supplied to get nearest objects\n",
    "#print (query_input)\n",
    "queryobjectarray = np.array(query_input) #query object from the given data set\n",
    "#print(queryobjectarray)\n",
    "queryobjectdict = {}\n",
    "\n",
    "for i,ref in enumerate(reference_array):\n",
    "    ref_array = np.array(csv_data.iloc[ref])\n",
    "    distance = abs(np.sum(np.subtract(queryobjectarray,ref_array)))\n",
    "    queryobjectdict[ref] = distance       #dictionary of reference and distance\n",
    "\n",
    "#print(queryobjectdict) #gives me reference and the distance\n",
    "\n",
    "#gives me the distance of references\n",
    "query_object_distance = sorted(queryobjectdict.items() , key=lambda x :x[1])\n",
    "#print(query_object_distance)\n",
    "ref_list = []\n",
    "for key,value in query_object_distance: #key gives me the reference\n",
    "    ref_list.append(key)\n",
    "#print(ref_list)"
   ]
  },
  {
   "cell_type": "code",
   "execution_count": null,
   "metadata": {},
   "outputs": [],
   "source": [
    "#accumulator logic for getting similar objects to query (objects with small accumulator value)\n",
    "distance = {}\n",
    "for ref in ref_list:                             # key from query_object_distance calculated above\n",
    "    reference_list = list(mif[str(ref)])         # mif dictionary that was created above\n",
    "    for i,j in enumerate(reference_list):        # ref_list has r1:(object,position)\n",
    "        objectindex,position = j.split(',')\n",
    "        distance[objectindex] = 0\n",
    "        distance[objectindex] = distance[objectindex] + abs(ref_list.index(ref) - int(position))\n",
    "    accumlator = sorted(distance.items(),key=lambda x:x[1])   #object close to given query    \n",
    "print(ref[:20])                                               #20 nearest objects to the query"
   ]
  }
 ],
 "metadata": {
  "kernelspec": {
   "display_name": "Python 3",
   "language": "python",
   "name": "python3"
  },
  "language_info": {
   "codemirror_mode": {
    "name": "ipython",
    "version": 3
   },
   "file_extension": ".py",
   "mimetype": "text/x-python",
   "name": "python",
   "nbconvert_exporter": "python",
   "pygments_lexer": "ipython3",
   "version": "3.7.1"
  }
 },
 "nbformat": 4,
 "nbformat_minor": 2
}
